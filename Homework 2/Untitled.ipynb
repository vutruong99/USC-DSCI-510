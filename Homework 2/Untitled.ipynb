{
 "cells": [
  {
   "cell_type": "code",
   "execution_count": 2,
   "id": "bcc930c2",
   "metadata": {},
   "outputs": [
    {
     "name": "stdout",
     "output_type": "stream",
     "text": [
      "['ID', 'Name', 'Gender']\n",
      "[['102', 'Amy', 'Female'], ['103', 'Jon', 'Male'], ['104', 'Iris', 'Female']]\n"
     ]
    }
   ],
   "source": [
    "def read_csv(filepath):\n",
    "\n",
    "\ttable = dict()\n",
    "\n",
    "\thandler = open(filepath, \"r\", encoding = \"utf-8-sig\")\n",
    "\n",
    "\tdata = []\n",
    "\tfor i,line in enumerate(handler):\n",
    "\t\tif i == 0:\n",
    "\t\t\theaders = line.rstrip().split(\",\")\n",
    "\t\telse:\n",
    "\t\t\tdata.append(line.rstrip().split(\",\"))\n",
    "\n",
    "\t\t# for item in line:\n",
    "\t\t# \tprint(item)\n",
    "\t\t# \ttable[item] = []\n",
    "\t\t# \tbreak\n",
    "\n",
    "\tprint(headers)\n",
    "\tprint(data)\n",
    "\n",
    "\tcolumn = -1\n",
    "\tfor header in headers:\n",
    "\t\ttable[header] = []\n",
    "\t\tcolumn = column + 1\n",
    "\t\tfor i in range(0,len(data)):\n",
    "\n",
    "\t\t\ttable[header].append(data[i][column])\n",
    "\n",
    "\n",
    "\treturn table\n",
    "\n",
    "table = read_csv(\"Students_Q2Q3.csv\")"
   ]
  },
  {
   "cell_type": "code",
   "execution_count": 2,
   "id": "e560c58b",
   "metadata": {},
   "outputs": [
    {
     "name": "stdout",
     "output_type": "stream",
     "text": [
      "{'ID': [], 'Name': [], 'Gender': []}\n"
     ]
    }
   ],
   "source": [
    "print(table)"
   ]
  },
  {
   "cell_type": "code",
   "execution_count": 3,
   "id": "5d94710a",
   "metadata": {},
   "outputs": [
    {
     "ename": "IndexError",
     "evalue": "pop from empty list",
     "output_type": "error",
     "traceback": [
      "\u001b[1;31m---------------------------------------------------------------------------\u001b[0m",
      "\u001b[1;31mIndexError\u001b[0m                                Traceback (most recent call last)",
      "\u001b[1;32m<ipython-input-3-fb3dd3996140>\u001b[0m in \u001b[0;36m<module>\u001b[1;34m\u001b[0m\n\u001b[0;32m      1\u001b[0m \u001b[1;32mfor\u001b[0m \u001b[0mkey\u001b[0m\u001b[1;33m,\u001b[0m\u001b[0mvalue\u001b[0m \u001b[1;32min\u001b[0m \u001b[0mtable\u001b[0m\u001b[1;33m.\u001b[0m\u001b[0mitems\u001b[0m\u001b[1;33m(\u001b[0m\u001b[1;33m)\u001b[0m\u001b[1;33m:\u001b[0m\u001b[1;33m\u001b[0m\u001b[1;33m\u001b[0m\u001b[0m\n\u001b[1;32m----> 2\u001b[1;33m     \u001b[0mlast\u001b[0m \u001b[1;33m=\u001b[0m \u001b[0mvalue\u001b[0m\u001b[1;33m.\u001b[0m\u001b[0mpop\u001b[0m\u001b[1;33m(\u001b[0m\u001b[1;33m)\u001b[0m\u001b[1;33m\u001b[0m\u001b[1;33m\u001b[0m\u001b[0m\n\u001b[0m\u001b[0;32m      3\u001b[0m     \u001b[0mvalue\u001b[0m\u001b[1;33m.\u001b[0m\u001b[0minsert\u001b[0m\u001b[1;33m(\u001b[0m\u001b[1;36m0\u001b[0m\u001b[1;33m,\u001b[0m\u001b[0mkey\u001b[0m\u001b[1;33m)\u001b[0m\u001b[1;33m\u001b[0m\u001b[1;33m\u001b[0m\u001b[0m\n\u001b[0;32m      4\u001b[0m     \u001b[0mtable\u001b[0m\u001b[1;33m[\u001b[0m\u001b[0mlast\u001b[0m\u001b[1;33m]\u001b[0m \u001b[1;33m=\u001b[0m \u001b[0mtable\u001b[0m\u001b[1;33m.\u001b[0m\u001b[0mpop\u001b[0m\u001b[1;33m(\u001b[0m\u001b[0mkey\u001b[0m\u001b[1;33m)\u001b[0m\u001b[1;33m\u001b[0m\u001b[1;33m\u001b[0m\u001b[0m\n\u001b[0;32m      5\u001b[0m \u001b[0mprint\u001b[0m\u001b[1;33m(\u001b[0m\u001b[0mtable\u001b[0m\u001b[1;33m)\u001b[0m\u001b[1;33m\u001b[0m\u001b[1;33m\u001b[0m\u001b[0m\n",
      "\u001b[1;31mIndexError\u001b[0m: pop from empty list"
     ]
    }
   ],
   "source": [
    "for key,value in table.items():\n",
    "    last = value.pop()\n",
    "    value.insert(0,key)\n",
    "    table[last] = table.pop(key)\n",
    "print(table)"
   ]
  },
  {
   "cell_type": "code",
   "execution_count": 4,
   "id": "a81573fe",
   "metadata": {},
   "outputs": [],
   "source": [
    "import csv\n",
    "\n",
    "lol = csv.reader(\"Students.csv\")"
   ]
  },
  {
   "cell_type": "code",
   "execution_count": 5,
   "id": "c15ac683",
   "metadata": {},
   "outputs": [
    {
     "name": "stdout",
     "output_type": "stream",
     "text": [
      "[['TID', 'Name', 'Age', 'Subject'], ['2872', 'Tim', '36', 'Math'], ['2873', 'Kate', '27', 'Physics'], ['2874', 'Carson', '45', 'Chemistry'], ['2875', 'Jerry', '32', 'Biology']]\n",
      "5\n",
      "4\n"
     ]
    }
   ],
   "source": [
    "import sys\n",
    "if __name__ == \"__main__\":\n",
    "    arglist = []\n",
    "    for argument in sys.argv:\n",
    "        arglist.append(argument)\n",
    "else:\n",
    "    print('This file was imported as a module! \\\n",
    "                 __name__ is', __name__)\n",
    "res = []\n",
    "import csv\n",
    "with open('Teachers_Q4.csv', 'r', encoding = \"utf-8-sig\") as file:\n",
    "    reader = csv.reader(file)\n",
    "    for row in reader:\n",
    "        res.append(row)\n",
    "\n",
    "print(res)\n",
    "print(len(res))\n",
    "print(len(res[0]))"
   ]
  },
  {
   "cell_type": "code",
   "execution_count": 6,
   "id": "8c1bc539",
   "metadata": {},
   "outputs": [],
   "source": [
    "trans = []\n",
    "for i in range(len(res[0])):\n",
    "    temp = []\n",
    "    for j in range(len(res)):\n",
    "        temp.append(res[j][i])\n",
    "    trans.append(temp)\n",
    "    \n",
    "with open(\"New_Teachers_Q4.csv\", \"w\", encoding = \"utf-8-sig\") as file:\n",
    "    for row in trans:\n",
    "        file.writelines(\",\".join(row) + \"\\n\")\n",
    "        \n",
    "\n",
    "        "
   ]
  },
  {
   "cell_type": "code",
   "execution_count": 7,
   "id": "2077c692",
   "metadata": {},
   "outputs": [
    {
     "ename": "FileNotFoundError",
     "evalue": "[Errno 2] No such file or directory: 'New_Teachers.csv'",
     "output_type": "error",
     "traceback": [
      "\u001b[1;31m---------------------------------------------------------------------------\u001b[0m",
      "\u001b[1;31mFileNotFoundError\u001b[0m                         Traceback (most recent call last)",
      "\u001b[1;32m<ipython-input-7-27275e4a635e>\u001b[0m in \u001b[0;36m<module>\u001b[1;34m\u001b[0m\n\u001b[1;32m----> 1\u001b[1;33m \u001b[1;32mwith\u001b[0m \u001b[0mopen\u001b[0m\u001b[1;33m(\u001b[0m\u001b[1;34m'New_Teachers.csv'\u001b[0m\u001b[1;33m,\u001b[0m \u001b[1;34m'r'\u001b[0m\u001b[1;33m,\u001b[0m \u001b[0mencoding\u001b[0m \u001b[1;33m=\u001b[0m \u001b[1;34m\"utf-8-sig\"\u001b[0m\u001b[1;33m)\u001b[0m \u001b[1;32mas\u001b[0m \u001b[0mfile\u001b[0m\u001b[1;33m:\u001b[0m\u001b[1;33m\u001b[0m\u001b[1;33m\u001b[0m\u001b[0m\n\u001b[0m\u001b[0;32m      2\u001b[0m     \u001b[0mreader\u001b[0m \u001b[1;33m=\u001b[0m \u001b[0mcsv\u001b[0m\u001b[1;33m.\u001b[0m\u001b[0mreader\u001b[0m\u001b[1;33m(\u001b[0m\u001b[0mfile\u001b[0m\u001b[1;33m)\u001b[0m\u001b[1;33m\u001b[0m\u001b[1;33m\u001b[0m\u001b[0m\n\u001b[0;32m      3\u001b[0m     \u001b[1;32mfor\u001b[0m \u001b[0mrow\u001b[0m \u001b[1;32min\u001b[0m \u001b[0mreader\u001b[0m\u001b[1;33m:\u001b[0m\u001b[1;33m\u001b[0m\u001b[1;33m\u001b[0m\u001b[0m\n\u001b[0;32m      4\u001b[0m         \u001b[0mprint\u001b[0m\u001b[1;33m\u001b[0m\u001b[1;33m\u001b[0m\u001b[0m\n",
      "\u001b[1;31mFileNotFoundError\u001b[0m: [Errno 2] No such file or directory: 'New_Teachers.csv'"
     ]
    }
   ],
   "source": [
    "with open('New_Teachers.csv', 'r', encoding = \"utf-8-sig\") as file:\n",
    "    reader = csv.reader(file)\n",
    "    for row in reader:\n",
    "        print"
   ]
  },
  {
   "cell_type": "code",
   "execution_count": null,
   "id": "c4660a49",
   "metadata": {},
   "outputs": [],
   "source": []
  }
 ],
 "metadata": {
  "kernelspec": {
   "display_name": "Python 3",
   "language": "python",
   "name": "python3"
  },
  "language_info": {
   "codemirror_mode": {
    "name": "ipython",
    "version": 3
   },
   "file_extension": ".py",
   "mimetype": "text/x-python",
   "name": "python",
   "nbconvert_exporter": "python",
   "pygments_lexer": "ipython3",
   "version": "3.8.8"
  }
 },
 "nbformat": 4,
 "nbformat_minor": 5
}
