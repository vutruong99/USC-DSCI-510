{
 "cells": [
  {
   "cell_type": "markdown",
   "metadata": {},
   "source": [
    "Lab 5\n",
    "---\n",
    "Hello All,\n",
    "\n",
    "Welcome to the DSCI 510's lab.\n",
    "\n",
    "Guidelines for the Lab:\n",
    "- You will be given the lab assignment in the start of the lab. You're supposed to complete it by the deadline stated, i.e., Thursday 11:59 PM PDT. \n",
    "\n",
    "- You've to complete the assignments individually. If you are having trouble completing the assignment do let me know, I will clear your doubts and guide you but I'll not write code for you and no one else should :) !!!  \n",
    "\n",
    "- You have to fill in the code in this notebook and upload it to back to blackboard for submission. While doing this, make sure that all supporting files that you download from blackboard are in the same directory as this notebook.  \n",
    "\n",
    "- You are encouraged to look up resources online like python docs and stackoverflow. But, you are encouraged to look up the topics and not the questions themselves  \n",
    "\n",
    "- Your last submission will be counted towards your grade  "
   ]
  },
  {
   "cell_type": "markdown",
   "metadata": {},
   "source": [
    "Q1.[10 Points]\n",
    "---\n",
    "You are given a file named Airports.txt. Data in each line is seperated by a tab(which is represented by '\\t' in python).  \n",
    "\n",
    "Each line of the file is in the format:\n",
    "\n",
    "```(type of airport, Name of the airport, Elevation from sealevel, Long and lat with \"\" seperated by comma). ```\n",
    "\n",
    "Example:\n",
    "```heliport\tTotal Rf Heliport\t11\t\"-74.93360137939453, 40.07080078125\"```\n",
    "\n",
    "Note: To read this file, you will need utf8 encoding hence, run \"file = open('Airports.txt', encoding='utf8')\" command for getting file handle.  \n",
    "\n",
    "For this question, open the file and return a dictionary with key as \"Name of the airport\" and value as a tuple of long and lat coordinates in format **(long, lat)**.  \n",
    "\n",
    "Input: none  \n",
    "Output: dictionary\n",
    "\n",
    "---\n",
    "Grading Rubric: 5 points if the sample input/output are correct. 10 if all correct."
   ]
  },
  {
   "cell_type": "code",
   "execution_count": 1,
   "metadata": {},
   "outputs": [],
   "source": [
    "# Fill this function for your solution\n",
    "\n",
    "def get_airport_info():\n",
    "    dictionary = dict()\n",
    "    handler = open('Airports.txt',encoding='utf8')\n",
    "    for i in handler:\n",
    "        data = i.rstrip().split(\"\\t\")\n",
    "        raw_coords = data[3]\n",
    "        coords = raw_coords.replace('\"','').split(\", \")\n",
    "        coordinates = (float(coords[0]),float(coords[1]))\n",
    "        dictionary[data[1]] = coordinates\n",
    "#     print(dictionary[\"Rancho La Joya Airport\"])\n",
    "    \n",
    "    return dictionary\n",
    "    pass"
   ]
  },
  {
   "cell_type": "code",
   "execution_count": 2,
   "metadata": {},
   "outputs": [
    {
     "name": "stdout",
     "output_type": "stream",
     "text": [
      "Len of the dict returned : 52852\n",
      "First Element : ('Total Rf Heliport', (-74.93360137939453, 40.07080078125))\n"
     ]
    }
   ],
   "source": [
    "# Do not change this cell \n",
    "print('Len of the dict returned :', len(get_airport_info().items()))\n",
    "print('First Element :', list(get_airport_info().items())[0])"
   ]
  },
  {
   "cell_type": "markdown",
   "metadata": {},
   "source": [
    "Q2.[10 points] \n",
    "---\n",
    "For this question, you are given two arguments latitude and longitude. You are supposed to return the minimum distance airport from this location. Return the airport name for this question.  \n",
    "\n",
    "You are given a function named distance which takes parameters tuple - (long1, lat1), tuple - (long2, lat2) and returns distance in kms between both (long, lat) tuples.\n",
    "\n",
    "Use the function from Q1 to get the dictionary and utilize it for this question. If you are unable to complete Q1, you can assume that it works in Q2. We'll not use your function from Q1 while grading.  \n",
    "\n",
    "Input: float, float  \n",
    "Output: str\n",
    "\n",
    "---\n",
    "Grading Rubric: 5 points if the sample input/output are correct. 10 if all correct."
   ]
  },
  {
   "cell_type": "code",
   "execution_count": 3,
   "metadata": {},
   "outputs": [],
   "source": [
    "# Use this cell for your solution\n",
    "from math import sin, cos, sqrt, atan2, radians\n",
    "def dist(point1, point2):\n",
    "    # approximate radius of earth in km\n",
    "    R = 6373.0\n",
    "    lat1 = radians(point1[1])\n",
    "    lon1 = radians(point1[0])\n",
    "    lat2 = radians(point2[1])\n",
    "    lon2 = radians(point2[0])\n",
    "    dlon = lon2 - lon1\n",
    "    dlat = lat2 - lat1\n",
    "    a = sin(dlat / 2)**2 + cos(lat1) * cos(lat2) * sin(dlon / 2)**2\n",
    "    c = 2 * atan2(sqrt(a), sqrt(1 - a))\n",
    "    distance = R * c\n",
    "    return distance"
   ]
  },
  {
   "cell_type": "code",
   "execution_count": 4,
   "metadata": {},
   "outputs": [],
   "source": [
    "def get_nearest_airport(long, lat):\n",
    "    \n",
    "    dictionary = get_airport_info()\n",
    "    nearest_airport = \"\"\n",
    "    min_distance = 9223372036854775807\n",
    "    for airport in dictionary:\n",
    "        distance = dist(dictionary[airport],(long,lat))\n",
    "        if distance < min_distance:\n",
    "            min_distance = distance\n",
    "            nearest_airport = airport\n",
    "    return nearest_airport\n",
    "    pass"
   ]
  },
  {
   "cell_type": "code",
   "execution_count": 5,
   "metadata": {},
   "outputs": [
    {
     "name": "stdout",
     "output_type": "stream",
     "text": [
      "Nearest airport from USC is\n",
      " Your output:  Maguire-California Hospital Helipad\n"
     ]
    }
   ],
   "source": [
    "# Do not change this cell \n",
    "print('Nearest airport from USC is\\n', 'Your output: ', get_nearest_airport(-118.289159, 34.024548))"
   ]
  },
  {
   "cell_type": "markdown",
   "metadata": {},
   "source": [
    "Q3.[10 points]\n",
    "---\n",
    "All DNA is composed of a series of nucleotides abbreviated as A, C, G, and T, for example: \"ACGAATTCCG\". When studying DNA, it is sometimes useful to identify repeated sequences within the DNA.  \n",
    "\n",
    "Write a function to find all the **10-letter-long sequences** (substrings) that occur more than once in a DNA molecule.  \n",
    "\n",
    "Input: string  \n",
    "Return Output: list of strings  \n",
    "\n",
    "Hint: If you use dictionaries, what will be the key? and value?   \n",
    "\n",
    "Example:  \n",
    "```\n",
    "Input  \n",
    "AAAAACCCCCAAAAACCCCCCAAAAAGGGTTT  \n",
    "Output  \n",
    "[\"AAAAACCCCC\", \"CCCCCAAAAA\"]  \n",
    "```\n",
    "---\n",
    "Grading Rubric: 5 points if the sample input/output are correct. 10 if all correct."
   ]
  },
  {
   "cell_type": "code",
   "execution_count": 6,
   "metadata": {},
   "outputs": [],
   "source": [
    "def dna_sequences(sequence):\n",
    "    if (len(sequence) <= 10):\n",
    "        return []\n",
    "    results = []\n",
    "    dictionary = dict()\n",
    "    \n",
    "    for i in range(0,len(sequence)-9):\n",
    "        dictionary[sequence[i:i+10]] = dictionary.get(sequence[i:i+10],0) + 1\n",
    "    \n",
    "    for key in dictionary:\n",
    "        if (dictionary[key] >= 2):\n",
    "            results.append(key)\n",
    "    return results\n",
    "    pass"
   ]
  },
  {
   "cell_type": "code",
   "execution_count": 7,
   "metadata": {},
   "outputs": [
    {
     "name": "stdout",
     "output_type": "stream",
     "text": [
      "Your output for sequence=AAAAACCCCCAAAAACCCCCCAAAAAGGGTTT is ['AAAAACCCCC', 'CCCCCAAAAA']\n"
     ]
    }
   ],
   "source": [
    "print('Your output for sequence=AAAAACCCCCAAAAACCCCCCAAAAAGGGTTT is', dna_sequences('AAAAACCCCCAAAAACCCCCCAAAAAGGGTTT'))"
   ]
  },
  {
   "cell_type": "markdown",
   "metadata": {},
   "source": [
    "Bonus Question[5 points]\n",
    "---\n",
    "Given a lat, long coordinate find k nearest airports from the location.\n",
    "\n",
    "Return a list of (airport_name, coordinates) tuple with size k.\n",
    "\n",
    "Input: float, float, int  \n",
    "Return Output: list of tuples\n",
    "\n",
    "---\n",
    "Grading Rubric: Binary"
   ]
  },
  {
   "cell_type": "code",
   "execution_count": 8,
   "metadata": {},
   "outputs": [],
   "source": [
    "# Use this cell for your solution\n",
    "\n",
    "def k_nearest_airports(long, lat, k):\n",
    "    dictionary = get_airport_info()\n",
    "    distances = []\n",
    "    results = []\n",
    "    for airport in dictionary:\n",
    "        distances.append((dist(dictionary[airport],(long,lat)),airport))\n",
    "    distances.sort()\n",
    "    \n",
    "    for i in range(k):\n",
    "        results.append((distances[i][1],dictionary[distances[i][1]]))\n",
    "    \n",
    "    return results\n",
    "    pass"
   ]
  },
  {
   "cell_type": "code",
   "execution_count": 9,
   "metadata": {},
   "outputs": [
    {
     "name": "stdout",
     "output_type": "stream",
     "text": [
      "[('Maguire-California Hospital Helipad', (-118.266204834, 34.0350112915)), ('Wells Fargo-Cv Heliport', (-118.27200317382812, 34.04169845581055)), ('AT&T Center Heliport', (-118.261704, 34.039611)), ('Chase Plaza Heliport', (-118.25800323486328, 34.037200927734375)), ('International Tower Heliport', (-118.26300048828125, 34.0463981628418))]\n"
     ]
    }
   ],
   "source": [
    "# Do not change this cell \n",
    "print(k_nearest_airports(-118.289159, 34.024548, 5))"
   ]
  },
  {
   "cell_type": "code",
   "execution_count": null,
   "metadata": {},
   "outputs": [],
   "source": []
  }
 ],
 "metadata": {
  "kernelspec": {
   "display_name": "Python 3",
   "language": "python",
   "name": "python3"
  },
  "language_info": {
   "codemirror_mode": {
    "name": "ipython",
    "version": 3
   },
   "file_extension": ".py",
   "mimetype": "text/x-python",
   "name": "python",
   "nbconvert_exporter": "python",
   "pygments_lexer": "ipython3",
   "version": "3.8.8"
  }
 },
 "nbformat": 4,
 "nbformat_minor": 4
}
