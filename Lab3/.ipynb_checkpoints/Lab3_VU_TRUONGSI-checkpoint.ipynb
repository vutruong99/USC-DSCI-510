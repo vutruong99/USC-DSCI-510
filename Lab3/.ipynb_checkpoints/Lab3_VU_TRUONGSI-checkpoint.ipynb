{
 "cells": [
  {
   "cell_type": "markdown",
   "metadata": {},
   "source": [
    "Lab 3\n",
    "---\n",
    "Hello All,\n",
    "\n",
    "Welcome to the DSCI 510's lab.\n",
    "\n",
    "Guidelines for the Lab:\n",
    "- You will be given the lab assignment in the start of the lab. You're supposed to complete it by the deadline, Thursday 11:59pm PDT.  \n",
    "\n",
    "- You've to complete the assignments individually. If you are having trouble completing the assignment do let me know, I will clear your doubts and guide you but I'll not write code for you and no one else should :) !!!  \n",
    "\n",
    "- You have to fill in the code in this notebook and upload it for submission. While doing this, make sure that all supporting files that you download from D2L or blackboard are in the same directory as this notebook.  \n",
    "\n",
    "- You are encouraged to look up resources online like python docs and stackoverflow. But, you are encouraged to look up the topics and not the questions themselves  \n",
    "\n",
    "- Your last submission before the deadline will be counted towards your grade  "
   ]
  },
  {
   "cell_type": "markdown",
   "metadata": {},
   "source": [
    "Q1.[10 points]\n",
    "---\n",
    "Given a password(string), return the score of the password as per the formula below and classify into categories as described below.\n",
    "\n",
    "$l = number\\ of\\ lowercase\\ characters$  \n",
    "$u = number\\ of\\ uppercase\\ characters$  \n",
    "$d = number\\ of\\ digits(0-9)$  \n",
    "$s = number\\ of\\ special\\ characters(any\\ character\\ not\\ in\\ l,u,d)$  \n",
    "$unique = number\\ of\\ unique\\ characters(characters\\ that\\ appear\\ atleast\\ once)$  \n",
    "$entropy = log_2(unique^{l+u+d+s})$\n",
    "\n",
    "$Formula:$  \n",
    "$score = (l*0.2+u*0.4+d*0.3+s*0.5)*entropy$  \n",
    "\n",
    "Classification -> Weak: $score<=50$, Medium: $50<score<=100$, Strong: $score>100$  \n",
    "\n",
    "**Print the Classification category and return the score calculated from the above formula.**  \n",
    "\n",
    "Input: string  \n",
    "Output: Return->float, print->string\n",
    "\n",
    "Note1: Importing math is fine for this question.  \n",
    "Note2: You are allowed to use the **unique_characters** function given to you.\n",
    "\n",
    "Example:  \n",
    "1. \n",
    "```\n",
    "Input  \n",
    "password  \n",
    "Output  \n",
    "Print: Weak password  \n",
    "Return: 35.934143002337336  \n",
    "```\n",
    "2. \n",
    "```\n",
    "Input  \n",
    "badpassword123!  \n",
    "Output  \n",
    "Print: Strong password  \n",
    "Return: 193.58797503894243  \n",
    "```\n",
    "\n",
    "---\n",
    "Grading Rubric: 5 points if either of classification or score is incorrect. 10 points if both are correct. "
   ]
  },
  {
   "cell_type": "code",
   "execution_count": 61,
   "metadata": {},
   "outputs": [],
   "source": [
    "# returns number of unique characters in a given string\n",
    "def unique_characters(string):\n",
    "    unique = 0\n",
    "    for i in range(128):\n",
    "        if chr(i) in string:\n",
    "            unique += 1\n",
    "    return unique"
   ]
  },
  {
   "cell_type": "code",
   "execution_count": 62,
   "metadata": {},
   "outputs": [],
   "source": [
    "import math\n",
    "# Use this cell for your solution\n",
    "def password_strength(password):\n",
    "    l = u = d = s = 0\n",
    "    for i in password:\n",
    "        if i.islower():\n",
    "            l += 1\n",
    "        elif i.isupper():\n",
    "            u += 1\n",
    "        elif i.isdigit():\n",
    "            d += 1\n",
    "        else:\n",
    "            s += 1\n",
    "    \n",
    "    entropy = math.log(unique_characters(password)**(l+u+d+s), 2)\n",
    "    score = (l*0.2 + u*0.4 + d*0.3 + s*0.5) * entropy\n",
    "#   Weak: 𝑠𝑐𝑜𝑟𝑒<=50, Medium: 50<𝑠𝑐𝑜𝑟𝑒<=100, Strong: 𝑠𝑐𝑜𝑟𝑒>100\n",
    "    if score <= 50:\n",
    "        print(\"Weak\")\n",
    "    elif 50<score and score <= 100:\n",
    "        print(\"Medium\")\n",
    "    else:\n",
    "        print(\"Strong\")\n",
    "    \n",
    "    return score\n",
    "    pass"
   ]
  },
  {
   "cell_type": "code",
   "execution_count": 63,
   "metadata": {},
   "outputs": [
    {
     "name": "stdout",
     "output_type": "stream",
     "text": [
      "Strong\n"
     ]
    },
    {
     "data": {
      "text/plain": [
       "193.58797503894243"
      ]
     },
     "execution_count": 63,
     "metadata": {},
     "output_type": "execute_result"
    }
   ],
   "source": [
    "password_strength(\"badpassword123!\")"
   ]
  },
  {
   "cell_type": "markdown",
   "metadata": {},
   "source": [
    "Q2.[10 points]\n",
    "---\n",
    "ROT13 (\"rotate by 13 places\", sometimes hyphenated ROT-13) is a simple encryption algorithm developed in ancient rome that replaces a letter with the 13th letter after it, in the alphabet. The algorithm provides virtually no cryptographic security and is often cited as a canonical example of weak encryption.  \n",
    "\n",
    "![title](https://upload.wikimedia.org/wikipedia/commons/3/33/ROT13_table_with_example.svg)\n",
    "\n",
    "Extend the original ROT13 algorithm, and write code for such a rotation whose rotation places is passed in the argument. Essentially, you have to write a ROTx whose x is passed as a argument. Each letter would be replaced by a letter some fixed number of positions down the alphabet.  \n",
    "\n",
    "Essentially, like this if rotation_places=3, \n",
    "\n",
    "![title](https://www.secplicity.org/wp-content/uploads/2017/05/Caesar_substition_cipher-750x393.png)  \n",
    "\n",
    "Note: You have to **preserve the letter case** for each character in the alphabet. However, for **\"characters not in the alphabet\"**, you can simply **shift them down the ascii sequence** and rotate over the end of ascii characters if needed(which is considered to be 128(0-127) for this lab).  \n",
    "\n",
    "Input: string, int  \n",
    "Return Output: string\n",
    "\n",
    "Example:  \n",
    "1. \n",
    "```\n",
    "Input  \n",
    "msg='hello', rotation_places=13  \n",
    "Output  \n",
    "uryyb\n",
    "```\n",
    "2. \n",
    "```\n",
    "Input  \n",
    "msg='xyz ', rotation_places=4  \n",
    "Output  \n",
    "bcd$\n",
    "```\n",
    "3. \n",
    "```\n",
    "Input  \n",
    "msg='wow!!!', rotation_places=12  \n",
    "Output  \n",
    "iai---\n",
    "```\n",
    "\n",
    "---\n",
    "Grading Rubric:  \n",
    "5 points if code returns correct answer but, letter case is not same or rotation over end of alphabet is not handled.  \n",
    "8 points if 5 points condition is satisfied but, special character rotation fails in corner cases :).  \n",
    "10 points if all is correct.  "
   ]
  },
  {
   "cell_type": "code",
   "execution_count": 64,
   "metadata": {},
   "outputs": [],
   "source": [
    "import string\n",
    "def rot(msg, rotation_places):\n",
    "    result = \"\"\n",
    "    lowers = \"abcdefghijklmnopqrstuvwxyz\"\n",
    "    uppers = \"ABCDEFGHIJKLMNOPQRSTUVWXYZ\"\n",
    "    unknown = [chr(i) for i in range(128)]\n",
    "    \n",
    "    for i in msg:\n",
    "        if i.islower():\n",
    "            result = result + lowers[(lowers.index(i)+rotation_places)%26]\n",
    "        elif i.isupper():\n",
    "            result = result + uppers[(uppers.index(i)+rotation_places)%26]\n",
    "        else:\n",
    "            result = result + unknown[(unknown.index(i)+rotation_places) % 128] \n",
    "    return result\n",
    "    pass"
   ]
  },
  {
   "cell_type": "code",
   "execution_count": 65,
   "metadata": {},
   "outputs": [
    {
     "name": "stdout",
     "output_type": "stream",
     "text": [
      "Your output for msg=hello and rotation places=13 is uryyb\n",
      "Your output for msg=xyz  and rotation places=14 is bcd$\n",
      "Your output for msg=wow!!! and rotation places=12 is iai---\n"
     ]
    }
   ],
   "source": [
    "print('Your output for msg=hello and rotation places=13 is', rot('hello', 13))\n",
    "print('Your output for msg=xyz  and rotation places=14 is', rot('xyz ', 4))\n",
    "print('Your output for msg=wow!!! and rotation places=12 is', rot('wow!!!', 12))"
   ]
  },
  {
   "cell_type": "code",
   "execution_count": 66,
   "metadata": {},
   "outputs": [
    {
     "data": {
      "text/plain": [
       "'\\x01\\x01\\x01BBB'"
      ]
     },
     "execution_count": 66,
     "metadata": {},
     "output_type": "execute_result"
    }
   ],
   "source": [
    "rot('~~~???',3)"
   ]
  },
  {
   "cell_type": "code",
   "execution_count": 67,
   "metadata": {},
   "outputs": [
    {
     "data": {
      "text/plain": [
       "'IKGYGX&IEVNKX'"
      ]
     },
     "execution_count": 67,
     "metadata": {},
     "output_type": "execute_result"
    }
   ],
   "source": [
    "rot('CEASAR CYPHER',6)"
   ]
  },
  {
   "cell_type": "code",
   "execution_count": 68,
   "metadata": {},
   "outputs": [
    {
     "data": {
      "text/plain": [
       "';;;=<=@C<D=><=><>=;;;'"
      ]
     },
     "execution_count": 68,
     "metadata": {},
     "output_type": "execute_result"
    }
   ],
   "source": [
    "rot('000212581923123132000',11)"
   ]
  },
  {
   "cell_type": "markdown",
   "metadata": {},
   "source": [
    "Q3.[10 points]\n",
    "---\n",
    "You are given a `word` string and a `character` string. While parsing from the start to the end in `word`, if you encounter `character` in the string, then you need to swap the string before the `character` in `word` with the string after the `character`. After doing this, you need to keep doing this \"parse and swap\" operation from the index+1 you swapped. You need to return the string after these operations.  \n",
    "\n",
    "For example, if word='abcd' and character='b', then output is 'abcd'. (abcd->cdba->abcd)\n",
    "\n",
    "---\n",
    "Example 1:  \n",
    "Input:  \n",
    "word='abc' character='b'  \n",
    "Output:  \n",
    "'cba'  \n",
    "Example 2:  \n",
    "Input:  \n",
    "word='philippines' character='i'  \n",
    "Output:  \n",
    "'philippines'\n",
    "\n",
    "---\n",
    "Grading Rubric: 5 points if the given test cases(namely example 1 and 2) pass. 10 points if it works for hidden test cases too. "
   ]
  },
  {
   "cell_type": "code",
   "execution_count": 69,
   "metadata": {},
   "outputs": [],
   "source": [
    "# Use this cell for your solution\n",
    "\n",
    "def reverse_all(word, character):\n",
    "    i = 0\n",
    "    s = len(word)\n",
    "    while i < s:\n",
    "        if word[i] == character: \n",
    "            word = word[i+1:] + word[i] + word[0:i]     \n",
    "            \n",
    "        i += 1\n",
    "\n",
    "    return word\n",
    "\n",
    "    # Remove pass and enter your code here\n",
    "# i\n",
    "# philippines"
   ]
  },
  {
   "cell_type": "code",
   "execution_count": 70,
   "metadata": {},
   "outputs": [
    {
     "name": "stdout",
     "output_type": "stream",
     "text": [
      "Your output -> cba Actual output -> cba\n",
      "Your output -> philippines Actual output -> philippines\n"
     ]
    }
   ],
   "source": [
    "# Do not change this cell \n",
    "print('Your output ->', reverse_all('abc', 'b'), 'Actual output -> cba')\n",
    "print('Your output ->', reverse_all('philippines', 'i'), 'Actual output -> philippines')\n",
    "# lippinesiph\n",
    "# nesiphilipp\n",
    "# lippinesiph\n",
    "# philippines"
   ]
  },
  {
   "cell_type": "markdown",
   "metadata": {},
   "source": [
    "Finished Early? \n",
    "\n",
    "Bonus Question[5 points] \n",
    "---\n",
    "Person A comes to class every nth day and person B comes to class every mth day. After how many days will they meet for first time after the classes have started?  \n",
    "\n",
    "Input: integer, integer  \n",
    "Output: return->integer  \n",
    "\n",
    "Yes, there is an obvious implementation to this. Can you make it **faster**?  \n",
    "\n",
    "Example:  \n",
    "```\n",
    "Input  \n",
    "n=2, m=3  \n",
    "Output  \n",
    "6\n",
    "```\n",
    "\n",
    "---\n",
    "Grading Rubric: Binary"
   ]
  },
  {
   "cell_type": "code",
   "execution_count": 71,
   "metadata": {},
   "outputs": [],
   "source": [
    "import math\n",
    "def every_n_m_day(n, m):\n",
    "    return int((n*m) / math.gcd(n,m))\n",
    "    pass"
   ]
  },
  {
   "cell_type": "code",
   "execution_count": 72,
   "metadata": {},
   "outputs": [
    {
     "data": {
      "text/plain": [
       "178557687"
      ]
     },
     "execution_count": 72,
     "metadata": {},
     "output_type": "execute_result"
    }
   ],
   "source": [
    "every_n_m_day(77,2318931)"
   ]
  },
  {
   "cell_type": "code",
   "execution_count": null,
   "metadata": {},
   "outputs": [],
   "source": []
  },
  {
   "cell_type": "code",
   "execution_count": null,
   "metadata": {},
   "outputs": [],
   "source": []
  }
 ],
 "metadata": {
  "kernelspec": {
   "display_name": "Python 3",
   "language": "python",
   "name": "python3"
  },
  "language_info": {
   "codemirror_mode": {
    "name": "ipython",
    "version": 3
   },
   "file_extension": ".py",
   "mimetype": "text/x-python",
   "name": "python",
   "nbconvert_exporter": "python",
   "pygments_lexer": "ipython3",
   "version": "3.8.8"
  }
 },
 "nbformat": 4,
 "nbformat_minor": 4
}
