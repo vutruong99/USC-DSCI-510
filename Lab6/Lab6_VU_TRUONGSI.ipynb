{
 "cells": [
  {
   "cell_type": "markdown",
   "metadata": {},
   "source": [
    "Lab 6\n",
    "---\n",
    "Hello All,\n",
    "\n",
    "Welcome to the DSCI 510's lab.\n",
    "\n",
    "Guidelines for the Lab:\n",
    "- You will be given the lab assignment in the start of the lab. You're supposed to complete it by the deadline stated on blackboard. \n",
    "\n",
    "- You've to complete the assignments individually. If you are having trouble completing the assignment do let me know, I will clear your doubts and guide you but I'll not write code for you and no one else should :) !!!  \n",
    "\n",
    "- You have to fill in the code in this notebook and upload it to back to blackboard for submission. While doing this, make sure that all supporting files that you download from blackboard are in the same directory as this notebook.  \n",
    "\n",
    "- You are encouraged to look up resources online like python docs and stackoverflow. But, you are encouraged to look up the topics and not the questions themselves  \n",
    "\n",
    "- Your last submission will be counted towards your grade  "
   ]
  },
  {
   "cell_type": "markdown",
   "metadata": {},
   "source": [
    "[10 points]\n",
    "---\n",
    "In this lab, you have to implement 3 classes.  \n",
    "\n",
    "For question 1, you will implement a **dataset** class. Detailed information of the class is given below:   \n",
    "Class name - **dataset**  \n",
    "Parent Class - None  \n",
    "Methods Details:  \n",
    "```\n",
    "__init__(): In the constructor, simply initialize a list  \n",
    "__getitem__(): In this method, return the value of list at the index given in the argument. If the value is not present, return None  \n",
    "__len__(): In this method, return the length of the list  \n",
    "append_data(): In this method, append the value given in the argument to the list defined in the constructor. No return value.   \n",
    "```\n",
    "\n",
    "---\n",
    "Grading Rubric: Binary"
   ]
  },
  {
   "cell_type": "code",
   "execution_count": 1,
   "metadata": {},
   "outputs": [],
   "source": [
    "#Implement dataset class in this cell\n",
    "class dataset:\n",
    "    def __init__(self):\n",
    "        self.dataList = []\n",
    "    \n",
    "    def __getitem__(self, index):\n",
    "        if (index < len(self.dataList) and index >= 0):\n",
    "            return self.dataList[index]\n",
    "        else:\n",
    "            return None\n",
    "    \n",
    "    def __len__(self):\n",
    "        return len(self.dataList)\n",
    "    \n",
    "    def append_data(self, value):\n",
    "        self.dataList.append(value)\n",
    "        \n",
    "    pass"
   ]
  },
  {
   "cell_type": "code",
   "execution_count": 2,
   "metadata": {},
   "outputs": [
    {
     "name": "stdout",
     "output_type": "stream",
     "text": [
      "0\n",
      "None\n",
      "4\n",
      "True\n"
     ]
    }
   ],
   "source": [
    "# Do not change this cell \n",
    "# code to test the class above\n",
    "data = dataset()\n",
    "print(len(data)) # should give 0 (equivalent to calling data.__len__())\n",
    "print(data[1541111]) # This should obviously give None (equivalent to calling data.__getitem__(1541111))\n",
    "data.append_data(1)\n",
    "data.append_data((1, 2))\n",
    "data.append_data([1, 2])\n",
    "data1 = dataset()\n",
    "data.append_data(data1)\n",
    "print(len(data)) # Should give 4\n",
    "data2 = data[3]\n",
    "print(data1==data2) # Should be true"
   ]
  },
  {
   "cell_type": "markdown",
   "metadata": {},
   "source": [
    "[10 points]\n",
    "---\n",
    "\n",
    "For question 2, you will implement a **txt_dataset** class. Detailed information of the class is given below:\n",
    "Class - **txt_dataset**  \n",
    "Parent Class - **dataset**  \n",
    "Method Details:  \n",
    "\n",
    "```\n",
    "__init__(): In the constructor, take arguments filename(to access the txt file), splitter(used to split each line of the dataset) and encoding(used to convert text to a sequence of bytes) and implement :\n",
    "1. Call the constructor of the dataset class\n",
    "2. Using the parent class dataset, add the values in the txt file to the list in the dataset. Value would be the tuple of all values found by splitting the line of the file.\n",
    "append_file(): take arguments filename, splitter and encoding and add this file's data to the existing dataset\n",
    "```\n",
    "\n",
    "---\n",
    "Grading Rubric: Binary"
   ]
  },
  {
   "cell_type": "code",
   "execution_count": 3,
   "metadata": {},
   "outputs": [],
   "source": [
    "# Implement txt_dataset class in this cell\n",
    "class txt_dataset(dataset):\n",
    "    \n",
    "    def __init__(self, filename, splitter, encoding):\n",
    "        super().__init__()\n",
    "        \n",
    "        self.append_file(filename,splitter,encoding)\n",
    "        \n",
    "    def append_file(self, filename, splitter, encoding):\n",
    "        handler = open(filename, encoding = encoding)\n",
    "        for i in handler:\n",
    "            data = i.split(splitter)\n",
    "            self.append_data(tuple(data))\n",
    "    pass"
   ]
  },
  {
   "cell_type": "code",
   "execution_count": 10,
   "metadata": {},
   "outputs": [
    {
     "name": "stdout",
     "output_type": "stream",
     "text": [
      "('14.6', '29.7', '55', '0.2\\n')\n",
      "4999\n"
     ]
    }
   ],
   "source": [
    "# Do not change this cell \n",
    "# code to test the class above\n",
    "txt_data = txt_dataset('Data.txt', '\\t', 'utf8')\n",
    "print(txt_data[5]) # it should be ('14.6', '29.7', '55', '0.2\\n')\n",
    "print(len(txt_data)) "
   ]
  },
  {
   "cell_type": "markdown",
   "metadata": {},
   "source": [
    "[10 points]\n",
    "---\n",
    "\n",
    "For question 3, you will implement a **csv_dataset** class. Detailed information of the class is given below:\n",
    "Class - **csv_dataset**  \n",
    "Parent Class - **dataset**  \n",
    "Method Details:  \n",
    "```\n",
    "__init__(): In the constructor, take arguments filename(to access the csv file), splitter(used to split each line of the dataset) and encoding(used to convert text to a sequence of bytes) and implement :\n",
    "1. Call the constructor of the dataset class\n",
    "2. Using the parent class dataset, add the values in the csv file to the list in the dataset. Value would be the tuple of all values found by splitting the line of the file.\n",
    "append_file(): take arguments filename, splitter and encoding and add this file's data to the existing dataset\n",
    "```\n",
    "Note: You can import csv module for implementing this.\n",
    "\n",
    "---\n",
    "Grading Rubric: Binary"
   ]
  },
  {
   "cell_type": "code",
   "execution_count": 13,
   "metadata": {},
   "outputs": [],
   "source": [
    "# Implement csv_dataset in this cell\n",
    "import csv\n",
    "class csv_dataset(dataset):\n",
    "    \n",
    "    def __init__(self, filename, splitter, encoding):\n",
    "        super().__init__()\n",
    "        self.append_file(filename, splitter, encoding)\n",
    "        \n",
    "    def append_file(self, filename, splitter, encoding):\n",
    "        file = open(filename, encoding= encoding)\n",
    "        reader = csv.reader(file, delimiter=splitter)\n",
    "        for line in reader:\n",
    "            self.append_data(tuple(line))\n",
    "            \n",
    "    def append_dataset(self, data):\n",
    "        self.dataList = self.dataList + data.dataList\n",
    "        \n",
    "    pass"
   ]
  },
  {
   "cell_type": "code",
   "execution_count": 14,
   "metadata": {},
   "outputs": [
    {
     "name": "stdout",
     "output_type": "stream",
     "text": [
      "408\n",
      "409\n",
      "817\n"
     ]
    }
   ],
   "source": [
    "# Do not change this cell\n",
    "# code to test the class above\n",
    "csv_data = csv_dataset('cars.csv', ';', 'utf8')\n",
    "print(len(csv_data)) \n",
    "csv_data.append_data((1,2,3,4,5))\n",
    "print(len(csv_data)) \n",
    "csv_data.append_file('cars.csv', ';', 'utf8')\n",
    "print(len(csv_data)) "
   ]
  },
  {
   "cell_type": "markdown",
   "metadata": {},
   "source": [
    "FAQs  \n",
    "---\n",
    "Q. How to open and read a csv file?  \n",
    "A. Code for the same is as below:  \n",
    "```\n",
    "import csv\n",
    "\n",
    "# Open file as below in the variable named file (considering encoding to be 'utf8' and file to be at 'filename.csv')\n",
    "file = open('filename.csv', encoding='utf8')\n",
    "\n",
    "# create a reader for the file(considering delimiter to be ';')\n",
    "reader = csv.reader(file, delimiter=';')\n",
    "\n",
    "# parse on the reader\n",
    "for line in reader:\n",
    "    # Each line in the file\n",
    "    print(line)\n",
    "```\n",
    "Q. How to call super/parent class's constructor?  \n",
    "A. Syntax: ```super().__init__()```  \n"
   ]
  },
  {
   "cell_type": "markdown",
   "metadata": {},
   "source": [
    "Bonus Question[5 points]\n",
    "---\n",
    "\n",
    "Now, for the functions above, add the functionality of adding a dataset to another dataset. Essentially, using this functionality, one would able to add all data of one dataset to another dataset and use it. It would have one argument of type class dataset and no return value as it adds the parameter dataset's value to self's dataset. \n",
    "\n",
    "You have to decide where this function would go from the above three classes and implement it.  \n",
    "\n",
    "For this question, the bottom line is that the below cell should work.\n",
    "\n",
    "---\n",
    "Grading rubric: Binary"
   ]
  },
  {
   "cell_type": "code",
   "execution_count": 15,
   "metadata": {},
   "outputs": [
    {
     "name": "stdout",
     "output_type": "stream",
     "text": [
      "4999\n",
      "5816\n"
     ]
    }
   ],
   "source": [
    "# Do not change this cell\n",
    "print(len(txt_data))\n",
    "csv_data.append_dataset(txt_data)\n",
    "print(len(csv_data)) "
   ]
  },
  {
   "cell_type": "code",
   "execution_count": null,
   "metadata": {},
   "outputs": [],
   "source": []
  }
 ],
 "metadata": {
  "kernelspec": {
   "display_name": "Python 3",
   "language": "python",
   "name": "python3"
  },
  "language_info": {
   "codemirror_mode": {
    "name": "ipython",
    "version": 3
   },
   "file_extension": ".py",
   "mimetype": "text/x-python",
   "name": "python",
   "nbconvert_exporter": "python",
   "pygments_lexer": "ipython3",
   "version": "3.8.8"
  }
 },
 "nbformat": 4,
 "nbformat_minor": 4
}
