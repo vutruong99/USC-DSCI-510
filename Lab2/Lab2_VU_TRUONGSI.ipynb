{
 "cells": [
  {
   "cell_type": "markdown",
   "metadata": {},
   "source": [
    "Lab 2\n",
    "---\n",
    "Hello All,\n",
    "\n",
    "Welcome to the lab.\n",
    "\n",
    "Guidelines for the Lab:\n",
    "- You will be given the lab assignment in the start of the lab. You're supposed to complete it by the deadline stated on blackboard. Should be usually on Thursday Midnight.  \n",
    "\n",
    "- You've to complete the assignments individually. If you are having trouble completing the assignment do let me know, I will clear your doubts and guide you but I'll not write code for you and no one else should :) !!!  \n",
    "\n",
    "- You have to fill in the code in this notebook and upload it to back to blackboard for submission. While doing this, make sure that all supporting files that you download from blackboard are in the same directory as this notebook. And remember to rename your file as \"Lab2_[YOUR FIRSTNAME]_[YOUR LASTNAME].ipynb\".(For me, I'll turn in a file called Lab2_Yujie_Zhang.ipynb)\n",
    "\n",
    "- You are encouraged to look up resources online like python docs and stackoverflow. But, you are encouraged to look up the topics and not the questions themselves  \n",
    "\n",
    "- Your last submission will be counted towards your grade  "
   ]
  },
  {
   "cell_type": "markdown",
   "metadata": {},
   "source": [
    "Q1.[10 points] \n",
    "---\n",
    "Given two integers base and power, print the exponent that is $base^{power}$. Fill the function in the next cell to complete the task.  \n",
    "\n",
    "Input: float, float  \n",
    "Return: none  \n",
    "Print: \"Answer is ...\"(Replace ... with your answer)\n",
    "\n",
    "After completing the whole lab, try running this code with a huge power like say a million and see what happens. Try to realize the potential of such a language(not all languages do it so simply) that scales and utilizes the computing power that you have.(Computer might hang after this, do it with a smaller power if you think your computer can't handle it)\n",
    "\n",
    "---\n",
    "Example:  \n",
    "Input:  \n",
    "base = 2, power = 4  \n",
    "Output:  \n",
    "Answer is 16  \n",
    "\n",
    "---\n",
    "Rubric: Binary "
   ]
  },
  {
   "cell_type": "code",
   "execution_count": 1,
   "metadata": {},
   "outputs": [
    {
     "name": "stdout",
     "output_type": "stream",
     "text": [
      "Answer is 16\n"
     ]
    }
   ],
   "source": [
    "def exponent(base, power):\n",
    "    print(\"Answer is\", base**power)\n",
    "    pass\n",
    "\n",
    "exponent(2,4)\n",
    "# Your output should be \"Answer is 16 for the above line of code\""
   ]
  },
  {
   "cell_type": "markdown",
   "metadata": {},
   "source": [
    "Q2.[10 Points]\n",
    "---\n",
    "Return whether a 2D point lies on X-axis, Y-axis or origin. Return a string from one of these ('X-axis', 'Y-axis', 'origin', 'none') according to the input.  \n",
    "\n",
    "If point is not on X-axis, Y-axis or origin then return 'none'  \n",
    "\n",
    "Input: int  \n",
    "Return: str\n",
    "\n",
    "---\n",
    "Example,  \n",
    "1.  \n",
    "Input:  \n",
    "x=0, y=0  \n",
    "Output:  \n",
    "'origin'  \n",
    "2.  \n",
    "Input:  \n",
    "x=5 y=5  \n",
    "Output:  \n",
    "'none'\n",
    "\n",
    "---\n",
    "Rubric: 2.5 points for each of the cases i.e., X-axis, Y-axis, origin and none"
   ]
  },
  {
   "cell_type": "code",
   "execution_count": 2,
   "metadata": {},
   "outputs": [],
   "source": [
    "def point_location(x, y):\n",
    "    if x == 0 and y == 0:\n",
    "        return \"origin\"\n",
    "    elif x == 0 and y != 0:\n",
    "        return \"Y-axis\"\n",
    "    elif x !=0 and y == 0:\n",
    "        return \"X-axis\"\n",
    "    else:\n",
    "        return \"none\"\n",
    "    pass"
   ]
  },
  {
   "cell_type": "code",
   "execution_count": 27,
   "metadata": {},
   "outputs": [
    {
     "name": "stdout",
     "output_type": "stream",
     "text": [
      "Input:  (0, 0) Your output:  origin\n",
      "Input:  (0, 1) Your output:  Y-axis\n",
      "Input:  (1, 0) Your output:  X-axis\n",
      "Input:  (1, 1) Your output:  none\n"
     ]
    }
   ],
   "source": [
    "# Do not change this cell. Use this cell to see how good your code does.\n",
    "\n",
    "points = [(0,0), (0,1), (1,0), (1,1)]\n",
    "for point in points:\n",
    "    x,y = point\n",
    "    print('Input: ', point, 'Your output: ', point_location(x, y))\n"
   ]
  },
  {
   "cell_type": "markdown",
   "metadata": {},
   "source": [
    "Q3.[10 points] \n",
    "---\n",
    "Determine if triangle exists or not by checking the sides.  \n",
    "\n",
    "```\n",
    "Condition: \n",
    "For a triangle to be valid, each side must be strictly smaller than the summation of the other two sides\n",
    "```\n",
    "\n",
    "Input: float, float, float  \n",
    "Return: boolean\n",
    "\n",
    "---\n",
    "```\n",
    "Example:  \n",
    "Input  \n",
    "s1=4, s2=5, s3=7\n",
    "Output\n",
    "True\n",
    "```\n",
    "---\n",
    "Rubric: Binary"
   ]
  },
  {
   "cell_type": "code",
   "execution_count": 3,
   "metadata": {},
   "outputs": [
    {
     "data": {
      "text/plain": [
       "True"
      ]
     },
     "execution_count": 3,
     "metadata": {},
     "output_type": "execute_result"
    }
   ],
   "source": [
    "def is_triangle(s1, s2, s3):\n",
    "    if (s1 < s2 + s3) and (s2 < s1 + s3) and (s3 < s1 + s2):\n",
    "        return True\n",
    "    else:\n",
    "        return False\n",
    "    pass\n",
    "is_triangle(5,4,7)"
   ]
  },
  {
   "cell_type": "markdown",
   "metadata": {},
   "source": [
    "### Finished Early?  \n",
    "\n",
    "Bonus Question.[5 points]\n",
    "---\n",
    "Challenge/Bonus Question[5 points]\n",
    "---\n",
    "Provided the day $d$ of the week as an number from 0-6 where 0 indicates monday and 6 indicates sunday and a number $add$ as the number of days to be added. Print the day of the week after adding $add$ days to $d$.\n",
    " \n",
    "Input: int, int  \n",
    "Print: \"The day is ...\" (Replace ... with your answer)\n",
    " \n",
    "---\n",
    "Example 1:  \n",
    "Input:  \n",
    "d = 1, add = 3   \n",
    "Output:  \n",
    "The day is 4   \n",
    "Example 2:   \n",
    "Input:   \n",
    "d = 0, add = 7   \n",
    "Output:  \n",
    "The day is 0\n",
    "\n",
    "---\n",
    "Rubric: Binary"
   ]
  },
  {
   "cell_type": "code",
   "execution_count": 7,
   "metadata": {
    "scrolled": true
   },
   "outputs": [
    {
     "data": {
      "text/plain": [
       "5"
      ]
     },
     "execution_count": 7,
     "metadata": {},
     "output_type": "execute_result"
    }
   ],
   "source": [
    "def day(d, add):\n",
    "    return (d + add) % 7\n",
    "    pass\n",
    "\n",
    "day(1,10000)"
   ]
  },
  {
   "cell_type": "code",
   "execution_count": null,
   "metadata": {},
   "outputs": [],
   "source": []
  }
 ],
 "metadata": {
  "kernelspec": {
   "display_name": "Python 3",
   "language": "python",
   "name": "python3"
  },
  "language_info": {
   "codemirror_mode": {
    "name": "ipython",
    "version": 3
   },
   "file_extension": ".py",
   "mimetype": "text/x-python",
   "name": "python",
   "nbconvert_exporter": "python",
   "pygments_lexer": "ipython3",
   "version": "3.8.8"
  }
 },
 "nbformat": 4,
 "nbformat_minor": 4
}
