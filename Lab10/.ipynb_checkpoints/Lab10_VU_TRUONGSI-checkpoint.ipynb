{
 "cells": [
  {
   "cell_type": "markdown",
   "metadata": {},
   "source": [
    "Lab 10\n",
    "---\n",
    "Hello All,\n",
    "\n",
    "Welcome to the DSCI 510's lab.\n",
    "\n",
    "Guidelines for the Lab:\n",
    "- You will be given the lab assignment in the start of the lab. You're supposed to complete it by the deadline stated on blackboard.  \n",
    "\n",
    "- You've to complete the assignments individually. If you are having trouble completing the assignment do let me know, I will clear your doubts and guide you but I'll not write code for you and no one else should :) !!!  \n",
    "\n",
    "- You have to fill in the code in this notebook and upload it to back to blackboard for submission. While doing this, make sure that all supporting files that you download from blackboard are in the same directory as this notebook.  \n",
    "\n",
    "- You are encouraged to look up resources online like python docs and stackoverflow. But, you are encouraged to look up the topics and not the questions themselves  \n",
    "\n",
    "- Your last submission will be counted towards your grade  "
   ]
  },
  {
   "cell_type": "markdown",
   "metadata": {},
   "source": [
    "Before attempting the below question, I recommend you to skim this xml documentation: https://docs.python.org/3/library/xml.etree.elementtree.html"
   ]
  },
  {
   "cell_type": "markdown",
   "metadata": {},
   "source": [
    "Q1.[30 points] \n",
    "---\n",
    "You are given a xml file with cities. See the attached file for its format. Takeaway from the format is that there is a data root tag which has child city tags in it. Each city tag may have multiple attributes and multiple tags in it. These tags and attributes are not mandated to be there in each city tag.  \n",
    "\n",
    "For this question, you are given a xml_file path and a `filters` dictionary as arguments of a function `filter_cities`. The key of the `filters` dictionary represents the attribute name of the city tag or the child tag name of the `city` tag. The value of that key represents the value of the corresponding attribute or text of the corresponding tag name.  \n",
    "\n",
    "This function should return the list of name of the cities that have matching values for all the attributes and tags given in the `filters`.  \n",
    "\n",
    "Assumptions: \n",
    "- All the attribute and tag names are combinedly unique.\n",
    "- All cities will have `name` tag in it. \n",
    "\n",
    "Note: While extracting the text from a tag, use `strip` to remove empty spaces and new lines.\n",
    "\n",
    "---\n",
    "Grading Rubric:  \n",
    "Using the sample xml file only.  \n",
    "- +10 - If function outputs correctly for `filters` that has only attribute name keys in it.  \n",
    "- +10 - If function outputs correctly for `filters` that has only tag name keys in it.  \n",
    "\n",
    "Using any kind of xml file with the above mentioned structure.  \n",
    "- +10 - If function outputs correctly for `filters` for all cases.  "
   ]
  },
  {
   "cell_type": "code",
   "execution_count": 273,
   "metadata": {},
   "outputs": [],
   "source": [
    "import xml.etree.ElementTree as ET\n",
    "def filter_cities(xml_file, filters):\n",
    "    tree = ET.parse(xml_file)\n",
    "    root = tree.getroot()\n",
    "    res = []\n",
    "    keys = []\n",
    "    \n",
    "    for key in filters.keys():\n",
    "        keys.append(key)\n",
    "        \n",
    "    attribute_keys = []\n",
    "    child_keys = []\n",
    "    \n",
    "    for first_child in root.findall(root[0].tag):\n",
    "        for i in first_child.attrib.keys():\n",
    "            attribute_keys.append(i)\n",
    "            \n",
    "    attribute_keys = set(attribute_keys)\n",
    "\n",
    "    names = []\n",
    "    \n",
    "    for child in root.findall(root[0].tag):\n",
    "        names.append(child.find('name').text.strip())\n",
    "        \n",
    "    for key in keys:\n",
    "        l = []\n",
    "        if key in attribute_keys:\n",
    "            for child in root.findall(root[0].tag):\n",
    "                try:\n",
    "                    if child.attrib[key] == filters[key]:\n",
    "                        l.append(child.find('name').text.strip())\n",
    "                except:\n",
    "                    continue\n",
    "            res.append(l)\n",
    "        else:\n",
    "            for child in root.findall(root[0].tag):\n",
    "                try:\n",
    "                    if child.find(key).text.strip() == filters[key]:\n",
    "                        l.append(child.find('name').text.strip())\n",
    "                except:\n",
    "                    continue\n",
    "            res.append(l)\n",
    "\n",
    "\n",
    "    result = []\n",
    "    for name in names:\n",
    "        right = True\n",
    "        for l in res:\n",
    "            if name not in l:\n",
    "                right = False\n",
    "        if right:\n",
    "            result.append(name)\n",
    "            \n",
    "    return result"
   ]
  },
  {
   "cell_type": "code",
   "execution_count": 280,
   "metadata": {},
   "outputs": [
    {
     "name": "stdout",
     "output_type": "stream",
     "text": [
      "['Los Angeles', 'New York']\n"
     ]
    }
   ],
   "source": [
    "filters = {\n",
    "    \"class\" : \"A\",\n",
    "    \"country\": \"USA\",\n",
    "}\n",
    "print(filter_cities(\"city.xml\", filters))\n",
    "# Expected output: ['Los Angeles', 'New York']"
   ]
  },
  {
   "cell_type": "markdown",
   "metadata": {},
   "source": [
    "Bonus Question.[5 points] \n",
    "---\n",
    "To complete this question, you need the access key from the opencage website. To obtain that the procedure is:  \n",
    "1. open https://opencagedata.com/api\n",
    "2. Click on sign up for your free api key.\n",
    "3. Create a account and use the access key that you get from there for this question.\n",
    "\n",
    "You are given a xml_file and `filters` dictionary(Same as the above question(Also in the same format)). You have to get the latitude and longitude for the cities that you returned in the above question. Use the opencagedata api to do geocoding. Give the city name as the input and you will get a json response with lat and long information in it.   \n",
    "\n",
    "Input: str, dict  \n",
    "Return Output: List of tuples(each element in format (lat, long))  \n",
    "\n",
    "Note: Make use of the above question's function. If you cannot complete the above question, you can assume that it exists. \n",
    "\n",
    "---\n",
    "Grading Rubric: Binary"
   ]
  },
  {
   "cell_type": "code",
   "execution_count": 281,
   "metadata": {},
   "outputs": [],
   "source": [
    "import re\n",
    "import requests\n",
    "\n",
    "def filter_cities_with_latlong(xml_file, filters):\n",
    "    \n",
    "    cities = filter_cities(xml_file, filters)\n",
    "    key = \"26eb3627d4a1462d8b268ffe905ee9db\"\n",
    "    \n",
    "    res = []\n",
    "    \n",
    "    for city in cities:\n",
    "        r = requests.get(\"https://api.opencagedata.com/geocode/v1/json?q=\"+city+\"&key=\"+key)\n",
    "        r_json = r.json()\n",
    "        res.append((r_json[\"results\"][0][\"geometry\"][\"lat\"], r_json[\"results\"][0][\"geometry\"][\"lng\"]))\n",
    "\n",
    "    return res\n",
    "    pass"
   ]
  },
  {
   "cell_type": "code",
   "execution_count": 282,
   "metadata": {},
   "outputs": [
    {
     "name": "stdout",
     "output_type": "stream",
     "text": [
      "[(34.0536909, -118.242766), (40.7127281, -74.0060152)]\n"
     ]
    }
   ],
   "source": [
    "print(filter_cities_with_latlong(\"city.xml\", filters))"
   ]
  },
  {
   "cell_type": "code",
   "execution_count": null,
   "metadata": {},
   "outputs": [],
   "source": []
  }
 ],
 "metadata": {
  "kernelspec": {
   "display_name": "Python 3",
   "language": "python",
   "name": "python3"
  },
  "language_info": {
   "codemirror_mode": {
    "name": "ipython",
    "version": 3
   },
   "file_extension": ".py",
   "mimetype": "text/x-python",
   "name": "python",
   "nbconvert_exporter": "python",
   "pygments_lexer": "ipython3",
   "version": "3.8.8"
  }
 },
 "nbformat": 4,
 "nbformat_minor": 4
}
