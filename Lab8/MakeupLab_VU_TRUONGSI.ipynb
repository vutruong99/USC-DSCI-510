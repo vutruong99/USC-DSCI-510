{
 "cells": [
  {
   "cell_type": "markdown",
   "metadata": {},
   "source": [
    "Makeup Lab\n",
    "---\n",
    "Hello All,\n",
    "\n",
    "Welcome to the DSCI 510's lab.\n",
    "\n",
    "Guidelines for the Lab:\n",
    "- You will be given the lab assignment in the start of the lab. You're supposed to complete it by the deadline stated on blackboard/D2L.  \n",
    "\n",
    "- You've to complete the assignments individually. If you are having trouble completing the assignment do let us know, We will clear your doubts and guide you but we'll not write code for you and no one else should :) !!!  \n",
    "\n",
    "- You have to fill in the code in this notebook and upload it to back to blackboard for submission. While doing this, make sure that all supporting files that you download from blackboard/D2L are in the same directory as this notebook.  \n",
    "\n",
    "- You are encouraged to look up resources online like python docs and stackoverflow. But, you are encouraged to look up the topics and not the questions themselves  \n",
    "\n",
    "- Your last submission will be counted towards your grade  "
   ]
  },
  {
   "cell_type": "markdown",
   "metadata": {},
   "source": [
    "Q1.[20 points]\n",
    "---\n",
    "You are given a function stats which has two params: action(string) and number(float). This function should provide two functionalities:  \n",
    "1. new  \n",
    "   If action is **\"new\"** then a new number is specified for the further calculations. \n",
    "2. get_stat  \n",
    "   If action is **\"get_stat\"** then the code should return with the stats as specified in the format below.  \n",
    "\n",
    "You have to create function `update_stats` which would be invoked when the action is \"new\" and this function should update the stats accordingly for the \"get_stat\" functionality.  \n",
    "\n",
    "Additionally, you have to create functions `get_average` and `get_standard_deviation` which would be invoked when the action is \"get_stat\". You might think that you won't need these functions, but, it is a good idea to calculate values only when required.\n",
    "\n",
    "\"get_stat\" output format(print):  \n",
    "Average is (value_of_average)  \n",
    "Standard Deviation is (value_of_standard_deviation)  \n",
    "\n",
    "\"new\" output format(print):  \n",
    "Last added number is (last_added_number)  \n",
    "\n",
    "Note: You may need to store some variables outside the functions(perhaps in a different cell altogether) for persistence.  \n",
    "\n",
    "Formula:  \n",
    "$avg = {(\\sum_i x_i)}/N$  \n",
    "$stddev = \\sqrt{E(x^2)-E(x)^2}$\n",
    "\n",
    "---\n",
    "```\n",
    "Example:\n",
    "Input\n",
    "action=new, number=123\n",
    "action=new, number=124\n",
    "action=get_stat\n",
    "Output\n",
    "Last added is 123\n",
    "Last added is 124\n",
    "Average is 123.5\n",
    "Standard Deviation is 0.5\n",
    "```\n",
    "---\n",
    "Grading Rubric:  \n",
    "+5 points if code handles the last added print correctly.  \n",
    "+5 points if code handles average calculation and it's print correctly.  \n",
    "+5 points if code code handles stddev calculation and it's print correctly.  \n",
    "+5 points if code calculates average and stddev without storing all values.  "
   ]
  },
  {
   "cell_type": "code",
   "execution_count": 69,
   "metadata": {},
   "outputs": [
    {
     "name": "stdout",
     "output_type": "stream",
     "text": [
      "Last added is 123\n",
      "Last added is 124\n",
      "Average is 123.5\n",
      "Standard deviation is 0.5\n",
      "Last added is 10\n",
      "Average is 85.66666666666667\n",
      "Standard deviation is 53.505970591036736\n"
     ]
    }
   ],
   "source": [
    "count = 0\n",
    "total = 0\n",
    "sum_of_squares = 0\n",
    "\n",
    "def update_stat(number):\n",
    "    global count\n",
    "    global total\n",
    "    global sum_of_squares\n",
    "    \n",
    "    count += 1\n",
    "    total += number\n",
    "    sum_of_squares += number**2\n",
    "    pass\n",
    "\n",
    "def get_average():\n",
    "    return total/count\n",
    "    pass\n",
    "\n",
    "\n",
    "def get_standard_deviation():\n",
    "    return ((sum_of_squares / count) - ((get_average()) ** 2))**0.5\n",
    "    pass\n",
    "\n",
    "def stats(action, number=None):\n",
    "    if action == \"new\":\n",
    "        update_stat(number)\n",
    "        print(\"Last added is\", number)\n",
    "    elif action == \"get_stat\":\n",
    "        print(\"Average is\", get_average())\n",
    "        print(\"Standard deviation is\", get_standard_deviation())\n",
    "    pass\n",
    "              \n",
    "stats(action=\"new\", number=123)\n",
    "stats(action=\"new\", number=124)\n",
    "stats(action=\"get_stat\")\n",
    "stats(action=\"new\", number=10)\n",
    "stats(action=\"get_stat\")"
   ]
  },
  {
   "cell_type": "code",
   "execution_count": 70,
   "metadata": {},
   "outputs": [
    {
     "name": "stdout",
     "output_type": "stream",
     "text": [
      "Last added is 0\n",
      "Last added is 1\n",
      "Average is 51.6\n",
      "Standard deviation is 58.810203196384215\n"
     ]
    }
   ],
   "source": [
    "stats(action=\"new\", number=0)\n",
    "stats(action=\"new\", number=1)\n",
    "stats(action=\"get_stat\")"
   ]
  },
  {
   "cell_type": "markdown",
   "metadata": {},
   "source": [
    "Q2.[10 points] \n",
    "---\n",
    "You are given a string which is made up of only two characters '(' and ')'. You have to return whether given string is valid or not. A string is valid if the all open brackets are closed and no closing bracket comes before the opening bracket.  \n",
    "\n",
    "For example: (), (()), ()(), ((()())()) are valid and (, )(, ()), ((((), ()()))) are invalid.\n",
    "\n",
    "---\n",
    "```\n",
    "Input : String\n",
    "Output : Boolean\n",
    "\n",
    "```\n",
    "---\n",
    "Grading Rubric: Binary"
   ]
  },
  {
   "cell_type": "code",
   "execution_count": 56,
   "metadata": {},
   "outputs": [],
   "source": [
    "def is_string_valid(text):\n",
    "    openB = 0\n",
    "    for i in text:\n",
    "        if i == \"(\":\n",
    "            openB = openB + 1\n",
    "        elif i == \")\":\n",
    "            if openB == 0:\n",
    "                return False\n",
    "            else:\n",
    "                openB = openB - 1\n",
    "    return 0 == openB\n",
    "    pass"
   ]
  },
  {
   "cell_type": "code",
   "execution_count": 61,
   "metadata": {},
   "outputs": [
    {
     "name": "stdout",
     "output_type": "stream",
     "text": [
      "True\n",
      "True\n",
      "True\n",
      "True\n",
      "True\n",
      "True\n",
      "\n",
      "\n",
      "False\n",
      "False\n",
      "False\n",
      "False\n",
      "False\n",
      "False\n"
     ]
    }
   ],
   "source": [
    "print(is_string_valid(\"()\"))\n",
    "print(is_string_valid(\"()()\"))\n",
    "print(is_string_valid(\"(())\"))\n",
    "print(is_string_valid(\"()()(((())))\"))\n",
    "print(is_string_valid(\"(((()(((()(())))))))\"))\n",
    "print(is_string_valid(\"()(((())))\"))\n",
    "print(\"\\n\")\n",
    "print(is_string_valid(\"(\"))\n",
    "print(is_string_valid(\")\"))\n",
    "print(is_string_valid(\"((())\"))\n",
    "print(is_string_valid(\"()))\"))\n",
    "print(is_string_valid(\")()\"))\n",
    "print(is_string_valid(\")))((()))\"))\n"
   ]
  },
  {
   "cell_type": "markdown",
   "metadata": {},
   "source": [
    "Bonus Question.[5 points] \n",
    "---\n",
    "Note: This question's purpose is to make you all familiar with plotting values in python. Make sure you play with the library :)  \n",
    "\n",
    "In this question, you are given a two lists with all float values in the argument and the function is supposed to create a line graph visualization of that list values. You are given x-axis values and y-axis values to plot. Make sure you don't reverse them.    \n",
    "\n",
    "You have to use the matplotlib library. Resource link: https://matplotlib.org/tutorials/introductory/pyplot.html  \n",
    "\n",
    "Don't return anything for this question.  \n",
    "\n",
    "Input: list, list  \n",
    "Return/Print: None  \n",
    "Only plot the graph.  \n",
    "\n",
    "Note: Assume both lists have same length. \n",
    "\n",
    "---\n",
    "Grading Rubric: Binary"
   ]
  },
  {
   "cell_type": "code",
   "execution_count": 60,
   "metadata": {},
   "outputs": [
    {
     "data": {
      "image/png": "[encoded data removed]",
      "text/plain": [
       "<Figure size 432x288 with 1 Axes>"
      ]
     },
     "metadata": {
      "needs_background": "light"
     },
     "output_type": "display_data"
    }
   ],
   "source": [
    "import matplotlib.pyplot as plt\n",
    "\n",
    "def viz_list(x_vals, y_vals):\n",
    "    plt.plot(x_vals, y_vals)\n",
    "    pass\n",
    "\n",
    "viz_list([1,2,3,4], [2,4,6,8])\n",
    "    "
   ]
  },
  {
   "cell_type": "code",
   "execution_count": null,
   "metadata": {},
   "outputs": [],
   "source": []
  }
 ],
 "metadata": {
  "kernelspec": {
   "display_name": "Python 3",
   "language": "python",
   "name": "python3"
  },
  "language_info": {
   "codemirror_mode": {
    "name": "ipython",
    "version": 3
   },
   "file_extension": ".py",
   "mimetype": "text/x-python",
   "name": "python",
   "nbconvert_exporter": "python",
   "pygments_lexer": "ipython3",
   "version": "3.8.8"
  }
 },
 "nbformat": 4,
 "nbformat_minor": 4
}
