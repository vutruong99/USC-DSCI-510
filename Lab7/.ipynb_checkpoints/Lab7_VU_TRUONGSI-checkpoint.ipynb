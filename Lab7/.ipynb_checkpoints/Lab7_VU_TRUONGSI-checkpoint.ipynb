{
 "cells": [
  {
   "cell_type": "markdown",
   "metadata": {},
   "source": [
    "Lab 7\n",
    "---\n",
    "Hello All,\n",
    "\n",
    "Welcome to the DSCI 510's lab.\n",
    "\n",
    "Guidelines for the Lab:\n",
    "- You will be given the lab assignment in the start of the lab. You are supposed to complete it by the deadline stated on blackboard.\n",
    "\n",
    "- You have to complete the assignments individually. If you are having trouble completing the assignment do let us know, we will clear your doubts and guide you but we will not write code for you and no one else should :) !!!  \n",
    "\n",
    "- You have to fill in the code in this notebook and upload it to back to blackboard/D2L for submission. While doing this make sure that all supporting files, if there are any, that you download from blackboard/D2L are in the same directory as this notebook.  \n",
    "\n",
    "- You are encouraged to look up resources online like python docs and stackoverflow. But, you are encouraged to look up the topics and not the questions themselves.\n",
    "\n",
    "- Your last submission will be counted towards your grade."
   ]
  },
  {
   "cell_type": "markdown",
   "metadata": {},
   "source": [
    "**We, the \"510\" team wish you all the best for your coming midterm.**"
   ]
  },
  {
   "cell_type": "markdown",
   "metadata": {},
   "source": [
    "Q1. [5 points]\n",
    "---\n",
    "Fill the function below that checks whether the given string ```s``` is palindrome or not.  \n",
    "\n",
    "```A string is palindrome if it stays the same when read from backward.```  \n",
    "    \n",
    "- For example, the strings '12321' or 'level' or 'racecar' are palindrome and the strings 'hello', 'weird', '123' are not palindrome.  \n",
    "    \n",
    "Input: String  \n",
    "Return Output: Boolean  \n",
    "\n",
    "---\n",
    "Grading Rubric: Binary"
   ]
  },
  {
   "cell_type": "code",
   "execution_count": 66,
   "metadata": {},
   "outputs": [],
   "source": [
    "def is_palindrome(s):\n",
    "    l,r = 0, len(s)-1\n",
    "\n",
    "    while l < r:\n",
    "        if s[l] != s[r]:\n",
    "            return False\n",
    "        else:\n",
    "            l+=1\n",
    "            r-=1\n",
    "        \n",
    "    return True\n"
   ]
  },
  {
   "cell_type": "code",
   "execution_count": 67,
   "metadata": {},
   "outputs": [
    {
     "data": {
      "text/plain": [
       "True"
      ]
     },
     "execution_count": 67,
     "metadata": {},
     "output_type": "execute_result"
    }
   ],
   "source": [
    "is_palindrome(\"racecar\")"
   ]
  },
  {
   "cell_type": "markdown",
   "metadata": {},
   "source": [
    "Q2. [15 points]\n",
    "---\n",
    "Given a text string, return the top k words sorted by frequency. If there are multiple options to include, add the words that are lexicographically smaller.  \n",
    "\n",
    "Note:  \n",
    "    - Strings in different letter case are considered different. For example, 'hey' and 'Hey' are different.   \n",
    "    - No need to remove special characters.  \n",
    "\n",
    "Input: string, integer  \n",
    "Return Output: List of strings\n",
    "\n",
    "Example 1:  \n",
    "Input:  \n",
    "text = 'this string would give you this output', k = 1  \n",
    "Output:  \n",
    "['this']  \n",
    "Example 2:  \n",
    "Input:  \n",
    "text = 'that is fun', k = 2  \n",
    "Output:  \n",
    "['fun', 'is']  \n",
    "\n",
    "---\n",
    "Grading Rubric: 5 points if lexicographically smaller constraint is not satisfied. 15 points if everything is correct. "
   ]
  },
  {
   "cell_type": "code",
   "execution_count": 68,
   "metadata": {},
   "outputs": [],
   "source": [
    "from collections import defaultdict\n",
    "def top_k(text, k):\n",
    "    dictionary = dict()\n",
    "    \n",
    "    text = text.split(\" \")\n",
    "    for word in text:\n",
    "        dictionary[word] = dictionary.get(word,0) + 1\n",
    "\n",
    "    freq_dict = defaultdict(list)\n",
    "    \n",
    "    for key, value in dictionary.items():\n",
    "        freq_dict[value].append(key)\n",
    "    \n",
    "    for key, value in freq_dict.items():\n",
    "        value.sort()\n",
    "        \n",
    "    sorted_freq_dict_list = sorted(freq_dict.items(), reverse = True)\n",
    "   \n",
    "    word_list_sorted = []\n",
    "    for key, value in sorted_freq_dict_list:\n",
    "        word_list_sorted += value\n",
    "    \n",
    "    return word_list_sorted[0:k]\n",
    "    \n",
    "    pass"
   ]
  },
  {
   "cell_type": "code",
   "execution_count": 69,
   "metadata": {},
   "outputs": [
    {
     "data": {
      "text/plain": [
       "['this']"
      ]
     },
     "execution_count": 69,
     "metadata": {},
     "output_type": "execute_result"
    }
   ],
   "source": [
    "top_k(\"this string would give you this output\", 1)"
   ]
  },
  {
   "cell_type": "markdown",
   "metadata": {},
   "source": [
    "Q3. [10 points]\n",
    "---\n",
    "Create a lecture class. Please create an object definition which fits the following the guidelines.  \n",
    "\n",
    "Every lecture object must be instantiated(params to the constructor) with the following String variables:\n",
    "1. Professor Name\n",
    "2. Start Time\n",
    "3. End Time\n",
    "4. Id\n",
    "\n",
    "Hence, lecture class' object could be created like ```my_lecture = lecture('Yigal', '1300', '1500', '1')```  \n",
    "\n",
    "Every lecture object must have the following functions:\n",
    "1. Add Student to the class \n",
    "    * Definition - add_student(student_name) Types - [string] No Return \n",
    "2. Remove Student from the class  \n",
    "    * Definition - remove_student(student_name) Types - [string] No Return \n",
    "3. Add a rating to the class \n",
    "    * Definition - add_rating(rating) Types - [float] No Return \n",
    "4. What is the average rating of the class  \n",
    "    * Definition - avg_rating() (*if nothing in the list just return 0*) Return rating \n",
    "5. Setter function for the boolean variable is_there_hw, which reverses the current boolean value (Default of is_there_hw is False)\n",
    "    * So if is_there_hw was False, and you call this function it sets it to True and vice versa\n",
    "    * Definition - set_hw() No Return \n",
    "6. Getter function for is_there_hw\n",
    "    * simply returns the state of the is_there_hw variable\n",
    "    * Definition - get_hw() Return boolean  \n",
    "7. Get students list\n",
    "    * simply returns the list of students in the class\n",
    "    * Definition - get_students() Return list  \n",
    "\n",
    "\n",
    "So there are 8 functions you have to create, the 7 above and the one `__init__` function.   \n",
    "\n",
    "---\n",
    "Grading Rubric: Each correct function will give you 1 point, except for avg_rating, which will give you 3 points if correct."
   ]
  },
  {
   "cell_type": "code",
   "execution_count": 70,
   "metadata": {},
   "outputs": [],
   "source": [
    "class lecture:\n",
    "    # initial variables\n",
    "    prof_name = \"\"\n",
    "    start_time = \"\"\n",
    "    end_time = \"\"\n",
    "    prof_id = \"\"\n",
    "    is_there_hw = False\n",
    "    students = []\n",
    "    ratings = []\n",
    "    \n",
    "    # init function that initialize 4 key variables\n",
    "    def __init__(self, prof_name, start_time, end_time, prof_id):\n",
    "        self.prof_name = prof_name\n",
    "        self.start_time = start_time\n",
    "        self.end_time = end_time\n",
    "        self.prof_id = prof_id\n",
    "        \n",
    "    # helper function to check the info of the lecture\n",
    "    def get_lecture_info(self):\n",
    "        return [self.prof_name, self.start_time, self.end_time, self.prof_id]\n",
    "    \n",
    "    def add_student(self, student_name):\n",
    "        self.students.append(student_name)\n",
    "        \n",
    "    def remove_student(self, student_name):\n",
    "        if student_name in self.students:\n",
    "            self.students.remove(student_name)\n",
    "        \n",
    "    def add_rating(self, rating):\n",
    "        self.ratings.append(float(rating))\n",
    "    \n",
    "    # helper function to get the ratings\n",
    "    def get_ratings(self):\n",
    "        return self.ratings\n",
    "    \n",
    "    def avg_rating(self):\n",
    "        if len(self.ratings) > 0:\n",
    "            return sum(self.ratings)/len(self.ratings)\n",
    "        else:\n",
    "            return 0\n",
    "        \n",
    "    def set_hw(self):\n",
    "        self.is_there_hw = not self.is_there_hw\n",
    "\n",
    "    def get_hw(self):\n",
    "        return self.is_there_hw\n",
    "\n",
    "    def get_students(self):\n",
    "        return self.students"
   ]
  },
  {
   "cell_type": "code",
   "execution_count": 71,
   "metadata": {},
   "outputs": [
    {
     "name": "stdout",
     "output_type": "stream",
     "text": [
      "My lecture info:  ['Yigal', '1300', '1500', '1']\n",
      "Students in the lecture:  ['Truong Si Thi Vu', 'Hehe Haha Hoho', 'Will Smith', 'Hercules', 'Solar']\n",
      "New students list:  ['Truong Si Thi Vu', 'Hehe Haha Hoho', 'Will Smith', 'Solar']\n",
      "Average rating:  0\n",
      "Show all ratings:  [9.0, 4.2, 5.3, 9.0, 10.0]\n",
      "Show new average rating:  7.5\n",
      "Get default Homework status:  False\n",
      "Get new Homework status: True\n"
     ]
    }
   ],
   "source": [
    "my_lecture = lecture('Yigal', '1300', '1500', '1')\n",
    "\n",
    "# Check to see if the object is correctly initialized\n",
    "print(\"My lecture info: \", my_lecture.get_lecture_info())\n",
    "\n",
    "# Add 5 students\n",
    "my_lecture.add_student(\"Truong Si Thi Vu\")\n",
    "my_lecture.add_student(\"Hehe Haha Hoho\")\n",
    "my_lecture.add_student(\"Will Smith\")\n",
    "my_lecture.add_student(\"Hercules\")\n",
    "my_lecture.add_student(\"Solar\")\n",
    "\n",
    "# Show all students\n",
    "print(\"Students in the lecture: \", my_lecture.get_students())\n",
    "\n",
    "# Remove one student\n",
    "my_lecture.remove_student(\"Hercules\")\n",
    "\n",
    "# Show new list of students\n",
    "print(\"New students list: \", my_lecture.get_students())\n",
    "\n",
    "# Show average rating before there are ratings...\n",
    "print(\"Average rating: \", my_lecture.avg_rating())\n",
    "\n",
    "# Add ratings in different format\n",
    "my_lecture.add_rating(9)\n",
    "my_lecture.add_rating(4.2)\n",
    "my_lecture.add_rating(\"5.3\")\n",
    "my_lecture.add_rating(\"9\")\n",
    "my_lecture.add_rating(\"10\")\n",
    "\n",
    "# Show ratings\n",
    "print(\"Show all ratings: \", my_lecture.get_ratings())\n",
    "\n",
    "# Show average rating\n",
    "print(\"Show new average rating: \", my_lecture.avg_rating())\n",
    "\n",
    "# Get the default Homework status (False)\n",
    "print(\"Get default Homework status: \", my_lecture.get_hw())\n",
    "\n",
    "# Set is_there_hw to its opposite value\n",
    "my_lecture.set_hw()\n",
    "\n",
    "# Get the new Homework status\n",
    "print(\"Get new Homework status:\", my_lecture.get_hw())"
   ]
  },
  {
   "cell_type": "code",
   "execution_count": null,
   "metadata": {},
   "outputs": [],
   "source": []
  },
  {
   "cell_type": "markdown",
   "metadata": {},
   "source": [
    "Fun Easy Bonus Question[5 points]\n",
    "---\n",
    "You are playing the following Game with your friend:\n",
    "\n",
    "- Initially, there is a heap of stones on the table.  \n",
    "- You and your friend will alternate taking turns, and you go first.  \n",
    "- On each turn, the person whose turn it is will remove 1 to 3 stones from the heap.  \n",
    "- The one who removes the last stone is the winner.  \n",
    "- Given n, the number of stones in the heap, return True if you can win the game assuming both you and your friend play optimally, otherwise return False.  \n",
    "\n",
    "Example:  \n",
    "Input: n = 4  \n",
    "Return Output: False  \n",
    "Explanation: These are the possible outcomes:  \n",
    "1. You remove 1 stone. Your friend removes 3 stones, including the last stone. Your friend wins.  \n",
    "2. You remove 2 stones. Your friend removes 2 stones, including the last stone. Your friend wins.  \n",
    "3. You remove 3 stones. Your friend removes the last stone. Your friend wins.  \n",
    "\n",
    "In all outcomes, your friend wins.  \n",
    "\n",
    "---\n",
    "Grading Rubric: Binary"
   ]
  },
  {
   "cell_type": "code",
   "execution_count": 72,
   "metadata": {},
   "outputs": [],
   "source": [
    "def is_winnable(n):\n",
    "    return n%4 != 0"
   ]
  },
  {
   "cell_type": "code",
   "execution_count": 73,
   "metadata": {},
   "outputs": [
    {
     "name": "stdout",
     "output_type": "stream",
     "text": [
      "False\n"
     ]
    }
   ],
   "source": [
    "print(is_winnable(4))"
   ]
  },
  {
   "cell_type": "code",
   "execution_count": null,
   "metadata": {},
   "outputs": [],
   "source": []
  }
 ],
 "metadata": {
  "kernelspec": {
   "display_name": "Python 3",
   "language": "python",
   "name": "python3"
  },
  "language_info": {
   "codemirror_mode": {
    "name": "ipython",
    "version": 3
   },
   "file_extension": ".py",
   "mimetype": "text/x-python",
   "name": "python",
   "nbconvert_exporter": "python",
   "pygments_lexer": "ipython3",
   "version": "3.8.8"
  }
 },
 "nbformat": 4,
 "nbformat_minor": 4
}
